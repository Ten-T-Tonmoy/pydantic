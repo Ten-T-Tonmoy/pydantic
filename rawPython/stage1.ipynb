{
 "cells": [
  {
   "cell_type": "markdown",
   "id": "8a5b331d",
   "metadata": {},
   "source": [
    "### Destructing"
   ]
  },
  {
   "cell_type": "code",
   "execution_count": 4,
   "id": "6fe14e91",
   "metadata": {},
   "outputs": [
    {
     "name": "stdout",
     "output_type": "stream",
     "text": [
      "2 10 L 25\n",
      "1 2\n",
      "slicing array in another way :  [2, 3, 4, 5]\n"
     ]
    }
   ],
   "source": [
    "a,b=[1,2]\n",
    "x,y=(10,20) #tuples\n",
    "p,q=\"ML\"\n",
    "\n",
    "# throwing value while destructing\n",
    "_,n=[10,25]\n",
    "print(b,x,q,n)\n",
    "\n",
    "# spread or *rest operator\n",
    "\n",
    "first,*rest=[1,2,3,4]\n",
    "*rest,last=[4,5,6,2]\n",
    "\n",
    "# dividing like way \n",
    "\n",
    "a,*b=[1,2,3,4,5]\n",
    "\n",
    "print(first,last)\n",
    "print(\"slicing array in another way : \",b)"
   ]
  },
  {
   "cell_type": "code",
   "execution_count": null,
   "id": "042d4d3f",
   "metadata": {},
   "outputs": [],
   "source": []
  }
 ],
 "metadata": {
  "kernelspec": {
   "display_name": "Python 3",
   "language": "python",
   "name": "python3"
  },
  "language_info": {
   "codemirror_mode": {
    "name": "ipython",
    "version": 3
   },
   "file_extension": ".py",
   "mimetype": "text/x-python",
   "name": "python",
   "nbconvert_exporter": "python",
   "pygments_lexer": "ipython3",
   "version": "3.12.2"
  }
 },
 "nbformat": 4,
 "nbformat_minor": 5
}
