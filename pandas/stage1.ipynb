{
 "cells": [
  {
   "cell_type": "markdown",
   "id": "48378d36",
   "metadata": {},
   "source": [
    "### Pandas Basicos\n",
    "- 1d labeled array"
   ]
  },
  {
   "cell_type": "code",
   "execution_count": 20,
   "id": "37c471e4",
   "metadata": {},
   "outputs": [
    {
     "name": "stdout",
     "output_type": "stream",
     "text": [
      "values : [1 2 3 4] \n",
      " lenghth : 4 \n",
      " indexes:  Index(['a', 'b', 'c', 'd'], dtype='object')\n",
      "a    1\n",
      "b    2\n",
      "c    3\n",
      "d    4\n",
      "dtype: int64\n"
     ]
    }
   ],
   "source": [
    "import pandas as pd\n",
    "import numpy as np\n",
    "import matplotlib.pyplot as plt\n",
    "\n",
    "pd.set_option('display.max_columns',None)\n",
    "pd.set_option('display.width',None)\n",
    "pd.set_option('display.max_colwidth',50)\n",
    "\n",
    "# basically serieses tf !? array with index label\n",
    "s1=pd.Series([1,2,3,45,6,7,8])\n",
    "s2=pd.Series([1,2,3,4],index=['a','b','c','d'])\n",
    "s3=pd.Series({'a':1,'b':2,'c':3,'d':4})\n",
    "print(\"values :\",s2.values,\"\\n lenghth :\",len(s2),\"\\n indexes: \",s2.index)\n",
    "print(s3)\n"
   ]
  },
  {
   "cell_type": "markdown",
   "id": "c9e95600",
   "metadata": {},
   "source": [
    "### DataFrame (2D labeled array)\n",
    "DataFrame is like a dictionary of Series or a 2D NumPy array with row and column labels."
   ]
  },
  {
   "cell_type": "code",
   "execution_count": 29,
   "id": "b2ebc6fe",
   "metadata": {},
   "outputs": [
    {
     "name": "stdout",
     "output_type": "stream",
     "text": [
      "      name  age     city  salary\n",
      "0    Alice   25      NYC   50000\n",
      "1      Bob   30       LA   60000\n",
      "2  Charlie   35  Chicago   70000\n",
      "3    Diana   28    Miami   55000\n",
      "\n",
      "      name  age     city\n",
      "0    Alice   25      NYC\n",
      "1      Bob   30       LA\n",
      "2  Charlie   35  Chicago\n"
     ]
    },
    {
     "data": {
      "text/html": [
       "<div>\n",
       "<style scoped>\n",
       "    .dataframe tbody tr th:only-of-type {\n",
       "        vertical-align: middle;\n",
       "    }\n",
       "\n",
       "    .dataframe tbody tr th {\n",
       "        vertical-align: top;\n",
       "    }\n",
       "\n",
       "    .dataframe thead th {\n",
       "        text-align: right;\n",
       "    }\n",
       "</style>\n",
       "<table border=\"1\" class=\"dataframe\">\n",
       "  <thead>\n",
       "    <tr style=\"text-align: right;\">\n",
       "      <th></th>\n",
       "      <th>a</th>\n",
       "      <th>b</th>\n",
       "      <th>c</th>\n",
       "      <th>d</th>\n",
       "    </tr>\n",
       "  </thead>\n",
       "  <tbody>\n",
       "    <tr>\n",
       "      <th>1</th>\n",
       "      <td>7</td>\n",
       "      <td>3</td>\n",
       "      <td>5</td>\n",
       "      <td>6</td>\n",
       "    </tr>\n",
       "    <tr>\n",
       "      <th>2</th>\n",
       "      <td>1</td>\n",
       "      <td>2</td>\n",
       "      <td>5</td>\n",
       "      <td>8</td>\n",
       "    </tr>\n",
       "    <tr>\n",
       "      <th>3</th>\n",
       "      <td>3</td>\n",
       "      <td>5</td>\n",
       "      <td>0</td>\n",
       "      <td>3</td>\n",
       "    </tr>\n",
       "    <tr>\n",
       "      <th>4</th>\n",
       "      <td>9</td>\n",
       "      <td>3</td>\n",
       "      <td>8</td>\n",
       "      <td>2</td>\n",
       "    </tr>\n",
       "    <tr>\n",
       "      <th>5</th>\n",
       "      <td>6</td>\n",
       "      <td>2</td>\n",
       "      <td>0</td>\n",
       "      <td>2</td>\n",
       "    </tr>\n",
       "  </tbody>\n",
       "</table>\n",
       "</div>"
      ],
      "text/plain": [
       "   a  b  c  d\n",
       "1  7  3  5  6\n",
       "2  1  2  5  8\n",
       "3  3  5  0  3\n",
       "4  9  3  8  2\n",
       "5  6  2  0  2"
      ]
     },
     "execution_count": 29,
     "metadata": {},
     "output_type": "execute_result"
    }
   ],
   "source": [
    "# dictionary\n",
    "data = {\n",
    "    'name': ['Alice', 'Bob', 'Charlie', 'Diana'],\n",
    "    'age': [25, 30, 35, 28],\n",
    "    'city': ['NYC', 'LA', 'Chicago', 'Miami'],\n",
    "    'salary': [50000, 60000, 70000, 55000]\n",
    "}\n",
    "\n",
    "df = pd.DataFrame(data)\n",
    "\n",
    "print(df)\n",
    "print()\n",
    "\n",
    "#list of dictionaries\n",
    "data2 = [\n",
    "    {'name': 'Alice', 'age': 25, 'city': 'NYC'},\n",
    "    {'name': 'Bob', 'age': 30, 'city': 'LA'},\n",
    "    {'name': 'Charlie', 'age': 35, 'city': 'Chicago'}\n",
    "]\n",
    "print(pd.DataFrame(data2))\n",
    "\n",
    "arr = np.random.randint(low=0, high=10, size=(5,4))\n",
    "pd.DataFrame(arr,columns=['a','b','c','d'],index=np.arange(1,6,1))\n",
    "#dont forget non inclusiveness\n"
   ]
  },
  {
   "cell_type": "markdown",
   "id": "1b2707b4",
   "metadata": {},
   "source": [
    "###  Data Loading & Saving\n"
   ]
  },
  {
   "cell_type": "code",
   "execution_count": null,
   "id": "e7635689",
   "metadata": {},
   "outputs": [],
   "source": [
    "# csv files \n",
    "df= pd.read_csv('data.csv',sep=',',header=0,index_col=0)\n",
    "# df2= pd.read_csv('data.csv',sep=',',usecols=['col1','col2'],nrows=100)\n",
    "# colds dont exist\n",
    "\n",
    "\n",
    "\n",
    "\n",
    "# Returns list of DataFrames\n",
    "\n",
    "# Web scraping\n",
    "# ytIrl = pd.read_html('https://www.youtube.com/results?') \n",
    "# need lxml for links"
   ]
  },
  {
   "cell_type": "code",
   "execution_count": 33,
   "id": "572ae1c8",
   "metadata": {},
   "outputs": [],
   "source": [
    "# Data saving \n",
    "# random matrix filled with integers\n",
    "arr = np.random.randint(low=0, high=10, size=(5,4))\n",
    "df=pd.DataFrame(arr,columns=['a','b','c','d'],index=np.arange(1,6,1))\n",
    "\n",
    "# df.to_csv('output.csv',index=False)\n",
    "df.to_csv('output.csv', sep=',', columns=['a', 'b','c','d'])\n"
   ]
  }
 ],
 "metadata": {
  "kernelspec": {
   "display_name": "venv",
   "language": "python",
   "name": "python3"
  },
  "language_info": {
   "codemirror_mode": {
    "name": "ipython",
    "version": 3
   },
   "file_extension": ".py",
   "mimetype": "text/x-python",
   "name": "python",
   "nbconvert_exporter": "python",
   "pygments_lexer": "ipython3",
   "version": "3.12.2"
  }
 },
 "nbformat": 4,
 "nbformat_minor": 5
}
