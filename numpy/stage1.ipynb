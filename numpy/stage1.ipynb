{
 "cells": [
  {
   "cell_type": "markdown",
   "id": "1697a7e0",
   "metadata": {},
   "source": [
    "# Starting numpy \n",
    "\n",
    "### steps that might come handy\n",
    "- B -> add cell\n",
    "- Y/M -> code or markDown as u need\n",
    "- Enter ->into edit mode\n",
    "- ESc -> into commmand mode\n",
    "- B/A -> below or Above cell create \n",
    "- SHift+Enter ->done with a cell block "
   ]
  },
  {
   "cell_type": "markdown",
   "id": "d2107060",
   "metadata": {},
   "source": [
    "### creating arrays"
   ]
  },
  {
   "cell_type": "code",
   "execution_count": 10,
   "id": "83428a2d",
   "metadata": {},
   "outputs": [
    {
     "name": "stdout",
     "output_type": "stream",
     "text": [
      "[[[1 2 3]\n",
      "  [2 5 6]]\n",
      "\n",
      " [[1 2 3]\n",
      "  [2 5 6]]\n",
      "\n",
      " [[1 2 3]\n",
      "  [2 5 6]]]\n",
      "[0 2 4 6 8]\n",
      "linspaces : \n",
      " [5.  5.5 6.  6.5 7.  7.5 8.  8.5 9.  9.5]\n"
     ]
    }
   ],
   "source": [
    "import numpy as np\n",
    "\n",
    "#arrays \n",
    "singleDim=np.array([1,2,3])\n",
    "matrix=np.array([[1,2,3],[2,5,6]])\n",
    "tensor=np.array([[[1,2,3],[2,5,6]],\n",
    "                 [[1,2,3],[2,5,6]],\n",
    "                 [[1,2,3],[2,5,6]]])\n",
    "\n",
    "print(tensor)\n",
    "# With initial values\n",
    "np.zeros((2, 3))         # 2x3 array of 0s\n",
    "np.ones((3, 3))          # 3x3 array of 1s\n",
    "np.full((2, 2), 7)       # 2x2 array with 7s\n",
    "np.eye(3)                # 3x3 Identity Matrix\n",
    "np.random.rand(2, 2)     # Random floats [0,1)\n",
    "np.random.randint(0, 10, (3, 3))  # Random ints\n",
    "\n",
    "## imp one arange and linspace\n",
    "print(np.arange(0,10,2)) # ps increment val at end\n",
    "print(\"linspaces : \\n\",np.linspace(5,9.5,10))\n",
    "#ending point also counts so calculate ending properly\n",
    "# exactly distributed proper 10 sampes on that range\n"
   ]
  },
  {
   "cell_type": "markdown",
   "id": "ab2c2232",
   "metadata": {},
   "source": [
    "### Time Comparison Numpy(c++) vs usual python array"
   ]
  },
  {
   "cell_type": "code",
   "execution_count": 3,
   "id": "226cee16",
   "metadata": {},
   "outputs": [
    {
     "name": "stdout",
     "output_type": "stream",
     "text": [
      "\n",
      " Python raw operation time : 0.7336580753326416\n",
      "\n",
      " Numpy operation time: 0.03741621971130371\n",
      "\n",
      " Numpy is  20.608022429668335  times fast af\n"
     ]
    }
   ],
   "source": [
    "import time \n",
    "\n",
    "initialTime=time.time()\n",
    "\n",
    "pythonArray=[i*2 for i in range(10000000)]\n",
    "# print(pythonArray)\n",
    "print(\"\\n Python raw operation time :\",time.time()-initialTime)\n",
    "\n",
    "initialTime2=time.time()\n",
    "numpyArray=np.arange(10000000)*2\n",
    "print(\"\\n Numpy operation time:\",time.time()-initialTime2)\n",
    "\n",
    "print(\"\\n Numpy is \",(time.time()-initialTime)/(time.time()-initialTime2),\" times fast af\")\n",
    "\n"
   ]
  },
  {
   "cell_type": "markdown",
   "id": "cd2fdedf",
   "metadata": {},
   "source": [
    "### array attributes"
   ]
  },
  {
   "cell_type": "code",
   "execution_count": 65,
   "id": "cf2ee950",
   "metadata": {},
   "outputs": [
    {
     "name": "stdout",
     "output_type": "stream",
     "text": [
      "[ 0  1  2  3  4  5  6  7  8  9 10 11 12 13 14 15 16 17 18 19 20]\n"
     ]
    }
   ],
   "source": [
    "arr = np.array([[1, 2, 3], [4, 5, 6]])\n",
    "arr.ndim         # Number of dimensions\n",
    "arr.shape        # Shape of array\n",
    "arr.size         # Total number of elements\n",
    "arr.dtype        # Data type\n",
    "arr.itemsize     # Size of each item (bytes)\n",
    "arr.nbytes       # Total bytes\n",
    "\n",
    "print(np.arange(0,21)) #non inclusive"
   ]
  },
  {
   "cell_type": "markdown",
   "id": "09ca3981",
   "metadata": {},
   "source": [
    "### indexing"
   ]
  },
  {
   "cell_type": "code",
   "execution_count": 66,
   "id": "a2064af0",
   "metadata": {},
   "outputs": [
    {
     "name": "stdout",
     "output_type": "stream",
     "text": [
      "[2 5 5]\n",
      "[2 5 6]\n",
      "[[2 3]\n",
      " [5 6]]\n"
     ]
    }
   ],
   "source": [
    "mat=np.array([[1,2,3],[2,5,6],[2,5,6]])\n",
    "\n",
    "mat[1,2] # row 1 and col 2\n",
    "print(mat[:,1]) #all rows col1 \n",
    "print(mat[1,:]) #all cols row1\n",
    "print(mat[0:2,1:3]) #slicing sub matrix \n",
    "\n"
   ]
  },
  {
   "cell_type": "markdown",
   "id": "e4e09fd3",
   "metadata": {},
   "source": [
    "### Operations"
   ]
  },
  {
   "cell_type": "code",
   "execution_count": 67,
   "id": "617c75ad",
   "metadata": {},
   "outputs": [
    {
     "name": "stdout",
     "output_type": "stream",
     "text": [
      "[[1 2 7]\n",
      " [2 5 8]\n",
      " [2 5 9]]\n",
      "Reshaped [[1 2 7]\n",
      " [2 5 8]\n",
      " [2 5 9]]\n",
      "flattened [[1 2 7]\n",
      " [2 5 8]\n",
      " [2 5 9]]\n"
     ]
    }
   ],
   "source": [
    "mat=np.array([[1,2,3],[2,5,6],[2,5,6]])\n",
    "mat[:,2]=[7,8,9] #changing values of coloumn 3rd\n",
    "print(mat)\n",
    "\n",
    "copied=mat.copy()\n",
    "# print(copied)\n",
    "\n",
    "mat.reshape((1,-1)) # for infer use negative no zero allowed\n",
    "print(\"Reshaped\",mat)\n",
    "copied.flatten()\n",
    "print(\"flattened\",copied)\n",
    "\n",
    "\n"
   ]
  },
  {
   "cell_type": "markdown",
   "id": "159eed89",
   "metadata": {},
   "source": [
    "\n",
    "\n",
    "```python\n",
    "a = np.array([[1, 2, 3]])   # Shape: (1, 3) → 1 row, 3 columns\n",
    "b = np.array([[1], [2], [3]])  # Shape: (3, 1) → 3 rows, 1 column\n",
    "```\n",
    "\n",
    "---\n",
    "\n",
    "\n",
    "```python\n",
    "a + b\n",
    "```\n",
    "\n",
    "NumPy tries to **\"stretch\" or broadcast** the shapes so they match for element-wise addition.\n",
    "\n",
    "---\n",
    "\n",
    "### 🔄 Step-by-step shape alignment:\n",
    "\n",
    "* `a`: shape **(1, 3)**\n",
    "  ➜ 1 row with 3 columns: `[1 2 3]`\n",
    "\n",
    "* `b`: shape **(3, 1)**\n",
    "  ➜ 3 rows, each with 1 column:\n",
    "\n",
    "  ```\n",
    "  [1]\n",
    "  [2]\n",
    "  [3]\n",
    "  ```\n",
    "\n",
    "➡️ NumPy broadcasts `a` down to 3 rows\n",
    "➡️ NumPy broadcasts `b` across to 3 columns\n",
    "\n",
    "Now both act like a **(3, 3)** shape:\n",
    "\n",
    "```plaintext\n",
    "a broadcasted:\n",
    "[[1 2 3]\n",
    " [1 2 3]\n",
    " [1 2 3]]\n",
    "\n",
    "b broadcasted:\n",
    "[[1 1 1]\n",
    " [2 2 2]\n",
    " [3 3 3]]\n",
    "```\n",
    "\n",
    "Now add them:\n",
    "\n",
    "```plaintext\n",
    "[[1+1 2+1 3+1]   → [2 3 4]\n",
    " [1+2 2+2 3+2]   → [3 4 5]\n",
    " [1+3 2+3 3+3]]  → [4 5 6]\n",
    "```\n",
    "\n",
    "➡️ Final output:\n",
    "\n",
    "```python\n",
    "array([[2, 3, 4],\n",
    "       [3, 4, 5],\n",
    "       [4, 5, 6]])\n",
    "```\n",
    "\n",
    "---"
   ]
  },
  {
   "cell_type": "code",
   "execution_count": 68,
   "id": "1f493450",
   "metadata": {},
   "outputs": [
    {
     "name": "stdout",
     "output_type": "stream",
     "text": [
      "dimension strechted array\n",
      "  [[ 2  3  4  5  6  7  8]\n",
      " [ 3  4  5  6  7  8  9]\n",
      " [ 4  5  6  7  8  9 10]\n",
      " [ 5  6  7  8  9 10 11]\n",
      " [ 6  7  8  9 10 11 12]\n",
      " [ 7  8  9 10 11 12 13]\n",
      " [ 8  9 10 11 12 13 14]]\n"
     ]
    }
   ],
   "source": [
    "#broadcasting\n",
    "\n",
    "a=np.array([1,2,3,4,5,6,7]) # shape (1,7)\n",
    "b=np.array([[1],[2],[3],[4],[5],[6],[7]]) # shape(7,1)\n",
    "print(\"dimension strechted array\\n \",a+b)"
   ]
  },
  {
   "cell_type": "markdown",
   "id": "7239e1cf",
   "metadata": {},
   "source": [
    "### Mathematical operations"
   ]
  },
  {
   "cell_type": "code",
   "execution_count": 69,
   "id": "3466e919",
   "metadata": {},
   "outputs": [
    {
     "name": "stdout",
     "output_type": "stream",
     "text": [
      "[ 2  4  6  8 10 12 14 16 91]\n",
      "[ 2  4  6  8 10 12 14 16 91]\n",
      "294 [ 1  4  9 16 25 36 49 64 90]\n",
      "14.0 [ 0.84147098  0.90929743  0.14112001 -0.7568025  -0.95892427 -0.2794155\n",
      "  0.6569866   0.98935825  0.89399666] 90\n",
      "1.0\n",
      "[[ 1  2  3  4  5  6  7  8 90]\n",
      " [ 1  2  3  4  5  6  7  8  1]] [ 1  2  3  4  5  6  7  8 90  1  2  3  4  5  6  7  8  1]\n"
     ]
    }
   ],
   "source": [
    "a=np.array([1,2,3,4,5,6,7,8,90])\n",
    "b=np.array([1,2,3,4,5,6,7,8,1])\n",
    "\n",
    "print(a+b) #element wise addition\n",
    "print(np.add(a,b)) #same element wise\n",
    "print(np.dot(a,b),a*b) # dot prod or mat prod  , element wise multiplication ,np.cross(a,b)\n",
    "\n",
    "print(np.mean(a),np.sin(a),np.max(a))\n",
    "print(np.sin(np.radians(90))) #gotta convert to radians\n",
    "\n",
    "\n",
    "#array stacking\n",
    "c=np.vstack([a,b]) #vertical stack\n",
    "d=np.hstack([a,b]) #horizontal stack\n",
    "\n",
    "print(c,d);\n"
   ]
  },
  {
   "cell_type": "markdown",
   "id": "f2e683da",
   "metadata": {},
   "source": [
    "### Masking boolean\n",
    " Basically  making an array of [True,False,False,True]\n",
    " And returning element that r true to that condition \n",
    " A fitering method more likely"
   ]
  },
  {
   "cell_type": "code",
   "execution_count": 70,
   "id": "c042a3ca",
   "metadata": {},
   "outputs": [
    {
     "name": "stdout",
     "output_type": "stream",
     "text": [
      "[3 4 5 6 7 8 8 9]\n"
     ]
    }
   ],
   "source": [
    "a =np.array([1,2,3,4,5,6,7,8,8,9])\n",
    "mask=a>2\n",
    "a[mask]\n",
    "print(a[mask])\n",
    "\n"
   ]
  },
  {
   "cell_type": "markdown",
   "id": "6f7eadee",
   "metadata": {},
   "source": [
    "### Randoms "
   ]
  },
  {
   "cell_type": "code",
   "execution_count": 71,
   "id": "617498f5",
   "metadata": {},
   "outputs": [
    {
     "name": "stdout",
     "output_type": "stream",
     "text": [
      "13\n",
      "0.9324325566689802\n",
      "8\n",
      "[4, 677, 32, 6, 1, 8, 8, 6, 2, 5, 84, 23]\n",
      "4\n",
      "[[ 1.12279492  0.30280522  0.07085926]\n",
      " [ 0.07304142 -1.42232584  1.52006949]\n",
      " [-0.29139398 -0.13309028 -0.1730696 ]]\n",
      "[[8 8]\n",
      " [9 2]]\n",
      "[[0.92559664 0.07103606 0.0871293 ]\n",
      " [0.0202184  0.83261985 0.77815675]]\n"
     ]
    }
   ],
   "source": [
    "import random #python raw\n",
    "\n",
    "print(random.randint(1,20))\n",
    "print(random.random()) #float shit\n",
    "\n",
    "chocies=[1,2,5,677,8,4,32,6,8,84,23,6];\n",
    "print(random.choice(chocies)) #interesting mmmh\n",
    "random.shuffle(chocies) # returns nothing tho\n",
    "print(chocies)\n",
    "\n",
    "\n",
    "np.random.seed(0)\n",
    "print(np.random.randint(5))\n",
    "print(np.random.randn(3,3)) #including neg\n",
    "# of int vals\n",
    "print(np.random.randint(1,10,size=(2,2)))\n",
    "#generating random array bruh\n",
    "\n",
    "print(np.random.rand(2,3))\n"
   ]
  },
  {
   "cell_type": "markdown",
   "id": "18ec0374",
   "metadata": {},
   "source": [
    "### Sorting & Searching"
   ]
  },
  {
   "cell_type": "code",
   "execution_count": 77,
   "id": "f1de056d",
   "metadata": {},
   "outputs": [
    {
     "name": "stdout",
     "output_type": "stream",
     "text": [
      "[0 1 2 4 5 6 7 3]\n",
      "(array([6, 7]),)\n",
      "3\n"
     ]
    }
   ],
   "source": [
    "arr=np.array([1,2,4,56,7,8,9,9])\n",
    "# np.sort(arr)\n",
    "\n",
    "print(np.argsort(arr)) # returns auukaaad\n",
    "print(np.where(arr==9))\n",
    "print(np.count_nonzero(arr>8))\n"
   ]
  },
  {
   "cell_type": "markdown",
   "id": "77ce1d8f",
   "metadata": {},
   "source": [
    "### Linear Algebra "
   ]
  },
  {
   "cell_type": "code",
   "execution_count": 82,
   "id": "b78d2843",
   "metadata": {},
   "outputs": [
    {
     "name": "stdout",
     "output_type": "stream",
     "text": [
      "[40 20]\n",
      "[[ 4  4]\n",
      " [10  8]]\n",
      "[[-2.   1. ]\n",
      " [ 1.5 -0.5]]\n",
      "-7.999999999999998\n",
      "EigResult(eigenvalues=array([-0.37228132,  5.37228132]), eigenvectors=array([[-0.82456484, -0.41597356],\n",
      "       [ 0.56576746, -0.90937671]]))\n"
     ]
    }
   ],
   "source": [
    "arr=np.array([[10, 20], [30, 40], [50, 60]])\n",
    "\n",
    "element_first=np.array([1,0])\n",
    "element_second=np.array([1,1])\n",
    "\n",
    "print(arr[element_first,element_second])\n",
    "\n",
    "a = np.array([[1, 2], [3, 4]])\n",
    "b = np.array([[2, 0], [1, 2]])\n",
    "\n",
    "\n",
    "# linalg \n",
    "print(np.matmul(a,b)) #matrix multiplication\n",
    "print(np.linalg.inv(a)) #inverse?\n",
    "print(np.linalg.det(np.linalg.matmul(a,b)))\n",
    "#eigenvectors \n",
    "print(np.linalg.eig(a))\n"
   ]
  },
  {
   "cell_type": "markdown",
   "id": "3cb9f7a4",
   "metadata": {},
   "source": [
    "### File saving nd Loading"
   ]
  },
  {
   "cell_type": "code",
   "execution_count": 88,
   "id": "8ea52190",
   "metadata": {},
   "outputs": [
    {
     "name": "stdout",
     "output_type": "stream",
     "text": [
      "[ 0.  1.  2.  3.  4.  5.  6.  7.  8.  9. 10. 11. 12. 13. 14. 15. 16. 17.\n",
      " 18. 19. 20. 21. 22. 23. 24. 25. 26. 27. 28. 29. 30. 31. 32. 33. 34. 35.\n",
      " 36. 37. 38. 39. 40. 41. 42. 43. 44. 45. 46. 47. 48. 49. 50. 51. 52. 53.\n",
      " 54. 55. 56. 57. 58. 59. 60. 61. 62. 63. 64. 65. 66. 67. 68. 69. 70. 71.\n",
      " 72. 73. 74. 75. 76. 77. 78. 79. 80. 81. 82. 83. 84. 85. 86. 87. 88. 89.\n",
      " 90. 91. 92. 93. 94. 95. 96. 97. 98. 99.]\n"
     ]
    }
   ],
   "source": [
    "a=np.arange(100)\n",
    "\n",
    "np.save('array.npy',a) #ofc in cwd \n",
    "# .npy .npz\n",
    "# .csv .txt readable\n",
    "loaded=np.load('array.npy')\n",
    "# print(loaded)\n",
    "\n",
    "np.savetxt('data.csv', a, delimiter=',')\n",
    "loaded2 = np.loadtxt('data.csv', delimiter=',')\n",
    "print(loaded2)\n",
    "\n",
    "\n"
   ]
  }
 ],
 "metadata": {
  "kernelspec": {
   "display_name": "Python 3",
   "language": "python",
   "name": "python3"
  },
  "language_info": {
   "codemirror_mode": {
    "name": "ipython",
    "version": 3
   },
   "file_extension": ".py",
   "mimetype": "text/x-python",
   "name": "python",
   "nbconvert_exporter": "python",
   "pygments_lexer": "ipython3",
   "version": "3.12.2"
  }
 },
 "nbformat": 4,
 "nbformat_minor": 5
}
